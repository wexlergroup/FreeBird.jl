{
 "cells": [
  {
   "cell_type": "code",
   "execution_count": 1,
   "id": "8b77ef22",
   "metadata": {},
   "outputs": [],
   "source": [
    "using FreeBird"
   ]
  },
  {
   "cell_type": "code",
   "execution_count": 2,
   "id": "b4d7de16",
   "metadata": {},
   "outputs": [
    {
     "data": {
      "text/plain": [
       "SLattice{SquareLattice}\n",
       "    lattice_vectors      : [1.0 0.0 0.0; 0.0 1.0 0.0; 0.0 0.0 1.0]\n",
       "    positions            : 16 grid points\n",
       "    supercell_dimensions : (4, 4, 1)\n",
       "    basis                : [(0.0, 0.0, 0.0)]\n",
       "    periodicity          : (true, true, false)\n",
       "    cutoff radii         : 2 nearest neighbors cutoffs [1.1, 1.5]\n",
       "    occupations          : \n",
       "      ● ● ● ● \n",
       "      ○ ○ ○ ○ \n",
       "      ○ ○ ○ ○ \n",
       "      ○ ○ ○ ○ \n",
       "    adsorptions          : full adsorption\n"
      ]
     },
     "metadata": {},
     "output_type": "display_data"
    }
   ],
   "source": [
    "initial_lattice = SLattice{SquareLattice}(components=[[1,2,3,4]])"
   ]
  },
  {
   "cell_type": "code",
   "execution_count": 3,
   "id": "9c9ef497",
   "metadata": {},
   "outputs": [
    {
     "data": {
      "text/plain": [
       "GenericLatticeHamiltonian{2,Quantity{Float64, 𝐋² 𝐌 𝐓⁻², Unitful.FreeUnits{(eV,), 𝐋² 𝐌 𝐓⁻², nothing}}}:\n",
       "    on_site_interaction:      -0.04 eV\n",
       "    nth_neighbor_interactions: [-0.01, -0.0025] eV\n"
      ]
     },
     "metadata": {},
     "output_type": "display_data"
    }
   ],
   "source": [
    "adsorption_energy = -0.04\n",
    "nn_energy = -0.01\n",
    "nnn_energy = -0.0025\n",
    "h = GenericLatticeHamiltonian(adsorption_energy, [nn_energy, nnn_energy], u\"eV\")"
   ]
  },
  {
   "cell_type": "code",
   "execution_count": 10,
   "id": "1c0fc622",
   "metadata": {},
   "outputs": [
    {
     "data": {
      "text/plain": [
       "5-element Vector{Float64}:\n",
       "  50.0\n",
       " 100.0\n",
       " 150.0\n",
       " 200.0\n",
       " 250.0"
      ]
     },
     "metadata": {},
     "output_type": "display_data"
    }
   ],
   "source": [
    "temperatures = [50., 100., 150., 200., 250.]  # K"
   ]
  },
  {
   "cell_type": "code",
   "execution_count": 11,
   "id": "52d383d2",
   "metadata": {},
   "outputs": [
    {
     "data": {
      "text/plain": [
       "ReplicaExchangeParameters([50.0, 100.0, 150.0, 200.0, 250.0], 100, 100, 10, 742022)"
      ]
     },
     "metadata": {},
     "output_type": "display_data"
    }
   ],
   "source": [
    "re_params = ReplicaExchangeParameters(\n",
    "    temperatures,\n",
    "    equilibrium_steps=100,\n",
    "    sampling_steps=100,\n",
    "    swap_interval=10,\n",
    "    random_seed=742022\n",
    ")"
   ]
  },
  {
   "cell_type": "code",
   "execution_count": 12,
   "id": "357699a7",
   "metadata": {},
   "outputs": [
    {
     "name": "stdout",
     "output_type": "stream",
     "text": [
      "[-0.175, -0.1825, -0.1825, -0.175, -0.185][-0.185, -0.185, -0.185, -0.185, -0.185]"
     ]
    },
    {
     "data": {
      "text/plain": [
       "5-element Vector{SLattice{SquareLattice}}:\n",
       " SLattice{SquareLattice}\n",
       "    lattice_vectors      : [1.0 0.0 0.0; 0.0 1.0 0.0; 0.0 0.0 1.0]\n",
       "    positions            : 16 grid points\n",
       "    supercell_dimensions : (4, 4, 1)\n",
       "    basis                : [(0.0, 0.0, 0.0)]\n",
       "    periodicity          : (true, true, false)\n",
       "    cutoff radii         : 2 nearest neighbors cutoffs [1.1, 1.5]\n",
       "    occupations          : \n",
       "      ● ○ ○ ○ \n",
       "      ○ ○ ○ ○ \n",
       "      ○ ○ ● ● \n",
       "      ○ ○ ○ ● \n",
       "    adsorptions          : full adsorption\n",
       "\n",
       " SLattice{SquareLattice}\n",
       "    lattice_vectors      : [1.0 0.0 0.0; 0.0 1.0 0.0; 0.0 0.0 1.0]\n",
       "    positions            : 16 grid points\n",
       "    supercell_dimensions : (4, 4, 1)\n",
       "    basis                : [(0.0, 0.0, 0.0)]\n",
       "    periodicity          : (true, true, false)\n",
       "    cutoff radii         : 2 nearest neighbors cutoffs [1.1, 1.5]\n",
       "    occupations          : \n",
       "      ● ○ ○ ○ \n",
       "      ○ ○ ○ ○ \n",
       "      ○ ○ ● ● \n",
       "      ○ ○ ○ ● \n",
       "    adsorptions          : full adsorption\n",
       "\n",
       " SLattice{SquareLattice}\n",
       "    lattice_vectors      : [1.0 0.0 0.0; 0.0 1.0 0.0; 0.0 0.0 1.0]\n",
       "    positions            : 16 grid points\n",
       "    supercell_dimensions : (4, 4, 1)\n",
       "    basis                : [(0.0, 0.0, 0.0)]\n",
       "    periodicity          : (true, true, false)\n",
       "    cutoff radii         : 2 nearest neighbors cutoffs [1.1, 1.5]\n",
       "    occupations          : \n",
       "      ● ○ ○ ○ \n",
       "      ○ ○ ○ ○ \n",
       "      ○ ○ ● ● \n",
       "      ○ ○ ○ ● \n",
       "    adsorptions          : full adsorption\n",
       "\n",
       " SLattice{SquareLattice}\n",
       "    lattice_vectors      : [1.0 0.0 0.0; 0.0 1.0 0.0; 0.0 0.0 1.0]\n",
       "    positions            : 16 grid points\n",
       "    supercell_dimensions : (4, 4, 1)\n",
       "    basis                : [(0.0, 0.0, 0.0)]\n",
       "    periodicity          : (true, true, false)\n",
       "    cutoff radii         : 2 nearest neighbors cutoffs [1.1, 1.5]\n",
       "    occupations          : \n",
       "      ● ○ ○ ○ \n",
       "      ○ ○ ○ ○ \n",
       "      ○ ○ ● ● \n",
       "      ○ ○ ○ ● \n",
       "    adsorptions          : full adsorption\n",
       "\n",
       " SLattice{SquareLattice}\n",
       "    lattice_vectors      : [1.0 0.0 0.0; 0.0 1.0 0.0; 0.0 0.0 1.0]\n",
       "    positions            : 16 grid points\n",
       "    supercell_dimensions : (4, 4, 1)\n",
       "    basis                : [(0.0, 0.0, 0.0)]\n",
       "    periodicity          : (true, true, false)\n",
       "    cutoff radii         : 2 nearest neighbors cutoffs [1.1, 1.5]\n",
       "    occupations          : \n",
       "      ● ○ ○ ○ \n",
       "      ○ ○ ○ ○ \n",
       "      ○ ○ ● ● \n",
       "      ○ ○ ○ ● \n",
       "    adsorptions          : full adsorption\n"
      ]
     },
     "metadata": {},
     "output_type": "display_data"
    }
   ],
   "source": [
    "replica_exchange(initial_lattice, h, re_params)"
   ]
  },
  {
   "cell_type": "code",
   "execution_count": null,
   "id": "67a86b4b",
   "metadata": {},
   "outputs": [],
   "source": []
  }
 ],
 "metadata": {
  "kernelspec": {
   "display_name": "Julia 1.10.2",
   "language": "julia",
   "name": "julia-1.10"
  },
  "language_info": {
   "file_extension": ".jl",
   "mimetype": "application/julia",
   "name": "julia",
   "version": "1.10.2"
  }
 },
 "nbformat": 4,
 "nbformat_minor": 5
}
