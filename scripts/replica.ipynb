{
 "cells": [
  {
   "cell_type": "code",
   "execution_count": 1,
   "id": "8b77ef22",
   "metadata": {},
   "outputs": [],
   "source": [
    "using FreeBird"
   ]
  },
  {
   "cell_type": "code",
   "execution_count": 3,
   "id": "ee879d0a",
   "metadata": {},
   "outputs": [
    {
     "data": {
      "text/plain": [
       "FreeBird.SamplingSchemes.ReplicaExchangeParameters([0.0, 1.0, 2.0], 10000, 10000, 100, 1234)"
      ]
     },
     "metadata": {},
     "output_type": "display_data"
    }
   ],
   "source": [
    "SamplingSchemes.ReplicaExchangeParameters([0, 1, 2])"
   ]
  },
  {
   "cell_type": "code",
   "execution_count": null,
   "id": "357699a7",
   "metadata": {},
   "outputs": [],
   "source": []
  }
 ],
 "metadata": {
  "kernelspec": {
   "display_name": "Julia 1.11.5",
   "language": "julia",
   "name": "julia-1.11"
  },
  "language_info": {
   "file_extension": ".jl",
   "mimetype": "application/julia",
   "name": "julia",
   "version": "1.11.5"
  }
 },
 "nbformat": 4,
 "nbformat_minor": 5
}
